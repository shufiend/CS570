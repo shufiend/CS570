{
 "cells": [
  {
   "cell_type": "code",
   "execution_count": 19,
   "metadata": {
    "collapsed": true
   },
   "outputs": [],
   "source": [
    "import pandas as pd\n",
    "import numpy as np"
   ]
  },
  {
   "cell_type": "code",
   "execution_count": 20,
   "metadata": {
    "collapsed": true
   },
   "outputs": [],
   "source": [
    "#download the class movie reviews from here:\n",
    "#https://docs.google.com/spreadsheets/d/17rCJzmWxqvAu9rkpkgt4ToccIlY4A1Ffuu1W9X3B8Ag/\n",
    "#then read that in as a pandas dataframe"
   ]
  },
  {
   "cell_type": "code",
   "execution_count": 21,
   "metadata": {
    "collapsed": true
   },
   "outputs": [],
   "source": [
    "M = pd.read_csv(\"Movie Reviews.csv\", index_col='Name')"
   ]
  },
  {
   "cell_type": "code",
   "execution_count": 22,
   "metadata": {
    "collapsed": true
   },
   "outputs": [],
   "source": [
    "def pearson(s1, s2):\n",
    "    \"\"\"Take two pd.Series objects and return a pearson correlation.\"\"\"\n",
    "    s1_c = s1 - s1.mean()\n",
    "    s2_c = s2 - s2.mean()\n",
    "    return np.sum(s1_c * s2_c) / np.sqrt(np.sum(s1_c ** 2) * np.sum(s2_c ** 2))"
   ]
  },
  {
   "cell_type": "code",
   "execution_count": 24,
   "metadata": {
    "collapsed": true
   },
   "outputs": [],
   "source": [
    "def get_recs(movie_name, M, num):\n",
    "\n",
    "    import numpy as np\n",
    "    reviews = []\n",
    "    for title in M.columns:\n",
    "        if title == movie_name:\n",
    "            continue\n",
    "        cor = pearson(M[movie_name], M[title])\n",
    "        if np.isnan(cor):\n",
    "            continue\n",
    "        else:\n",
    "            reviews.append((title, cor))\n",
    "    \n",
    "    reviews.sort(key=lambda tup: tup[1], reverse=True)\n",
    "    return reviews[:num]"
   ]
  },
  {
   "cell_type": "code",
   "execution_count": 15,
   "metadata": {
    "collapsed": false
   },
   "outputs": [],
   "source": [
    "recs = get_recs('The Fault in Our Stars', M, 2)"
   ]
  },
  {
   "cell_type": "markdown",
   "metadata": {},
   "source": [
    "# Question 1: What movie is most Similar to 'The fault in our stars' (60 pts)\n",
    "# Answer = Interstellar"
   ]
  },
  {
   "cell_type": "code",
   "execution_count": 16,
   "metadata": {
    "collapsed": false
   },
   "outputs": [
    {
     "data": {
      "text/plain": [
       "[('Interstellar', 0.22684077834314326), ('Malificent', 0.21073478138933158)]"
      ]
     },
     "execution_count": 16,
     "metadata": {},
     "output_type": "execute_result"
    }
   ],
   "source": [
    "recs[:2]"
   ]
  },
  {
   "cell_type": "markdown",
   "metadata": {},
   "source": [
    "# Question 2: Which movie(s) would you most like to see, based on your classmates experience? (40 pts)\n",
    "\n",
    "Answer # Interstellar has a mean of 4.555556"
   ]
  },
  {
   "cell_type": "code",
   "execution_count": 28,
   "metadata": {
    "collapsed": false
   },
   "outputs": [
    {
     "name": "stderr",
     "output_type": "stream",
     "text": [
      "C:\\Users\\CG\\Anaconda3\\lib\\site-packages\\numpy\\lib\\function_base.py:3834: RuntimeWarning: Invalid value encountered in percentile\n",
      "  RuntimeWarning)\n"
     ]
    },
    {
     "data": {
      "text/html": [
       "<div>\n",
       "<table border=\"1\" class=\"dataframe\">\n",
       "  <thead>\n",
       "    <tr style=\"text-align: right;\">\n",
       "      <th></th>\n",
       "      <th>American Sniper</th>\n",
       "      <th>The Hunger Games: Mockingjay - Part 1</th>\n",
       "      <th>Guardians of the Galaxy</th>\n",
       "      <th>The Lego Movie</th>\n",
       "      <th>The Hobbit</th>\n",
       "      <th>Transformers</th>\n",
       "      <th>Malificent</th>\n",
       "      <th>Big Hero 6</th>\n",
       "      <th>Godzilla</th>\n",
       "      <th>Interstellar</th>\n",
       "      <th>How to Train your Dragon 2</th>\n",
       "      <th>Gone Girl</th>\n",
       "      <th>Divergent</th>\n",
       "      <th>The Fault in Our Stars</th>\n",
       "      <th>Unbroken</th>\n",
       "      <th>300: Rise of an Empire</th>\n",
       "    </tr>\n",
       "  </thead>\n",
       "  <tbody>\n",
       "    <tr>\n",
       "      <th>count</th>\n",
       "      <td>63.000000</td>\n",
       "      <td>71.000000</td>\n",
       "      <td>81.000000</td>\n",
       "      <td>58.000000</td>\n",
       "      <td>84.000000</td>\n",
       "      <td>87.000000</td>\n",
       "      <td>58.000000</td>\n",
       "      <td>47.000000</td>\n",
       "      <td>72.000000</td>\n",
       "      <td>72.000000</td>\n",
       "      <td>72.000000</td>\n",
       "      <td>57.000000</td>\n",
       "      <td>61.000000</td>\n",
       "      <td>38.000000</td>\n",
       "      <td>29.000000</td>\n",
       "      <td>74.000000</td>\n",
       "    </tr>\n",
       "    <tr>\n",
       "      <th>mean</th>\n",
       "      <td>4.150794</td>\n",
       "      <td>3.352113</td>\n",
       "      <td>3.882716</td>\n",
       "      <td>3.413793</td>\n",
       "      <td>4.070238</td>\n",
       "      <td>3.660920</td>\n",
       "      <td>3.370690</td>\n",
       "      <td>3.963830</td>\n",
       "      <td>3.505556</td>\n",
       "      <td>4.555556</td>\n",
       "      <td>3.777778</td>\n",
       "      <td>3.929825</td>\n",
       "      <td>3.263934</td>\n",
       "      <td>3.644737</td>\n",
       "      <td>3.637931</td>\n",
       "      <td>3.750000</td>\n",
       "    </tr>\n",
       "    <tr>\n",
       "      <th>std</th>\n",
       "      <td>0.716369</td>\n",
       "      <td>0.887993</td>\n",
       "      <td>0.803397</td>\n",
       "      <td>1.060197</td>\n",
       "      <td>0.850907</td>\n",
       "      <td>1.177537</td>\n",
       "      <td>0.905928</td>\n",
       "      <td>1.140447</td>\n",
       "      <td>0.985513</td>\n",
       "      <td>0.724596</td>\n",
       "      <td>0.941563</td>\n",
       "      <td>0.956363</td>\n",
       "      <td>0.829263</td>\n",
       "      <td>0.922012</td>\n",
       "      <td>0.971896</td>\n",
       "      <td>1.185674</td>\n",
       "    </tr>\n",
       "    <tr>\n",
       "      <th>min</th>\n",
       "      <td>3.000000</td>\n",
       "      <td>1.000000</td>\n",
       "      <td>2.000000</td>\n",
       "      <td>1.000000</td>\n",
       "      <td>1.000000</td>\n",
       "      <td>1.000000</td>\n",
       "      <td>0.000000</td>\n",
       "      <td>1.000000</td>\n",
       "      <td>1.000000</td>\n",
       "      <td>2.000000</td>\n",
       "      <td>1.000000</td>\n",
       "      <td>2.000000</td>\n",
       "      <td>1.000000</td>\n",
       "      <td>1.000000</td>\n",
       "      <td>2.000000</td>\n",
       "      <td>1.000000</td>\n",
       "    </tr>\n",
       "    <tr>\n",
       "      <th>25%</th>\n",
       "      <td>NaN</td>\n",
       "      <td>NaN</td>\n",
       "      <td>NaN</td>\n",
       "      <td>NaN</td>\n",
       "      <td>NaN</td>\n",
       "      <td>NaN</td>\n",
       "      <td>NaN</td>\n",
       "      <td>NaN</td>\n",
       "      <td>NaN</td>\n",
       "      <td>NaN</td>\n",
       "      <td>NaN</td>\n",
       "      <td>NaN</td>\n",
       "      <td>NaN</td>\n",
       "      <td>NaN</td>\n",
       "      <td>NaN</td>\n",
       "      <td>NaN</td>\n",
       "    </tr>\n",
       "    <tr>\n",
       "      <th>50%</th>\n",
       "      <td>NaN</td>\n",
       "      <td>NaN</td>\n",
       "      <td>NaN</td>\n",
       "      <td>NaN</td>\n",
       "      <td>NaN</td>\n",
       "      <td>NaN</td>\n",
       "      <td>NaN</td>\n",
       "      <td>NaN</td>\n",
       "      <td>NaN</td>\n",
       "      <td>NaN</td>\n",
       "      <td>NaN</td>\n",
       "      <td>NaN</td>\n",
       "      <td>NaN</td>\n",
       "      <td>NaN</td>\n",
       "      <td>NaN</td>\n",
       "      <td>NaN</td>\n",
       "    </tr>\n",
       "    <tr>\n",
       "      <th>75%</th>\n",
       "      <td>NaN</td>\n",
       "      <td>NaN</td>\n",
       "      <td>NaN</td>\n",
       "      <td>NaN</td>\n",
       "      <td>NaN</td>\n",
       "      <td>NaN</td>\n",
       "      <td>NaN</td>\n",
       "      <td>NaN</td>\n",
       "      <td>NaN</td>\n",
       "      <td>NaN</td>\n",
       "      <td>NaN</td>\n",
       "      <td>NaN</td>\n",
       "      <td>NaN</td>\n",
       "      <td>NaN</td>\n",
       "      <td>NaN</td>\n",
       "      <td>NaN</td>\n",
       "    </tr>\n",
       "    <tr>\n",
       "      <th>max</th>\n",
       "      <td>5.000000</td>\n",
       "      <td>5.000000</td>\n",
       "      <td>5.000000</td>\n",
       "      <td>5.000000</td>\n",
       "      <td>5.000000</td>\n",
       "      <td>5.000000</td>\n",
       "      <td>5.000000</td>\n",
       "      <td>5.000000</td>\n",
       "      <td>5.000000</td>\n",
       "      <td>5.000000</td>\n",
       "      <td>5.000000</td>\n",
       "      <td>5.000000</td>\n",
       "      <td>5.000000</td>\n",
       "      <td>5.000000</td>\n",
       "      <td>5.000000</td>\n",
       "      <td>5.000000</td>\n",
       "    </tr>\n",
       "  </tbody>\n",
       "</table>\n",
       "</div>"
      ],
      "text/plain": [
       "       American Sniper  The Hunger Games: Mockingjay - Part 1  \\\n",
       "count        63.000000                              71.000000   \n",
       "mean          4.150794                               3.352113   \n",
       "std           0.716369                               0.887993   \n",
       "min           3.000000                               1.000000   \n",
       "25%                NaN                                    NaN   \n",
       "50%                NaN                                    NaN   \n",
       "75%                NaN                                    NaN   \n",
       "max           5.000000                               5.000000   \n",
       "\n",
       "       Guardians of the Galaxy  The Lego Movie  The Hobbit  Transformers  \\\n",
       "count                81.000000       58.000000   84.000000     87.000000   \n",
       "mean                  3.882716        3.413793    4.070238      3.660920   \n",
       "std                   0.803397        1.060197    0.850907      1.177537   \n",
       "min                   2.000000        1.000000    1.000000      1.000000   \n",
       "25%                        NaN             NaN         NaN           NaN   \n",
       "50%                        NaN             NaN         NaN           NaN   \n",
       "75%                        NaN             NaN         NaN           NaN   \n",
       "max                   5.000000        5.000000    5.000000      5.000000   \n",
       "\n",
       "       Malificent  Big Hero 6   Godzilla  Interstellar  \\\n",
       "count   58.000000   47.000000  72.000000     72.000000   \n",
       "mean     3.370690    3.963830   3.505556      4.555556   \n",
       "std      0.905928    1.140447   0.985513      0.724596   \n",
       "min      0.000000    1.000000   1.000000      2.000000   \n",
       "25%           NaN         NaN        NaN           NaN   \n",
       "50%           NaN         NaN        NaN           NaN   \n",
       "75%           NaN         NaN        NaN           NaN   \n",
       "max      5.000000    5.000000   5.000000      5.000000   \n",
       "\n",
       "       How to Train your Dragon 2  Gone Girl  Divergent  \\\n",
       "count                   72.000000  57.000000  61.000000   \n",
       "mean                     3.777778   3.929825   3.263934   \n",
       "std                      0.941563   0.956363   0.829263   \n",
       "min                      1.000000   2.000000   1.000000   \n",
       "25%                           NaN        NaN        NaN   \n",
       "50%                           NaN        NaN        NaN   \n",
       "75%                           NaN        NaN        NaN   \n",
       "max                      5.000000   5.000000   5.000000   \n",
       "\n",
       "       The Fault in Our Stars   Unbroken  300: Rise of an Empire  \n",
       "count               38.000000  29.000000               74.000000  \n",
       "mean                 3.644737   3.637931                3.750000  \n",
       "std                  0.922012   0.971896                1.185674  \n",
       "min                  1.000000   2.000000                1.000000  \n",
       "25%                       NaN        NaN                     NaN  \n",
       "50%                       NaN        NaN                     NaN  \n",
       "75%                       NaN        NaN                     NaN  \n",
       "max                  5.000000   5.000000                5.000000  "
      ]
     },
     "execution_count": 28,
     "metadata": {},
     "output_type": "execute_result"
    }
   ],
   "source": [
    "M.describe()"
   ]
  },
  {
   "cell_type": "markdown",
   "metadata": {},
   "source": []
  },
  {
   "cell_type": "markdown",
   "metadata": {},
   "source": [
    "# Question 3: Bonus Question... For all the movies you haven't seen, can you predict how you'd rate them using your the class reviews? (10 pts)"
   ]
  },
  {
   "cell_type": "markdown",
   "metadata": {},
   "source": [
    "#For the lack of coding skills I would do the following\n",
    " 1) set all values for the movies I have seen to Zero 0\n",
    " 2) set the vale of all movies I have NOT seen to 5\n",
    " 3) search for all movies that have similar ratings"
   ]
  }
 ],
 "metadata": {
  "anaconda-cloud": {},
  "kernelspec": {
   "display_name": "Python [default]",
   "language": "python",
   "name": "python3"
  },
  "language_info": {
   "codemirror_mode": {
    "name": "ipython",
    "version": 3
   },
   "file_extension": ".py",
   "mimetype": "text/x-python",
   "name": "python",
   "nbconvert_exporter": "python",
   "pygments_lexer": "ipython3",
   "version": "3.5.2"
  }
 },
 "nbformat": 4,
 "nbformat_minor": 1
}
